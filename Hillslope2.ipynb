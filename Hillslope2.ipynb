{
  "nbformat": 4,
  "nbformat_minor": 0,
  "metadata": {
    "colab": {
      "name": "Hillslope.ipynb",
      "version": "0.3.2",
      "provenance": []
    },
    "language_info": {
      "codemirror_mode": {
        "name": "ipython",
        "version": 3
      },
      "file_extension": ".py",
      "mimetype": "text/x-python",
      "name": "python",
      "nbconvert_exporter": "python",
      "pygments_lexer": "ipython3",
      "version": "3.6.3"
    },
    "kernelspec": {
      "display_name": "Python 3",
      "language": "python",
      "name": "python3"
    }
  },
  "cells": [
    {
      "metadata": {
        "id": "4ow3MSYLxEcF",
        "colab_type": "code",
        "colab": {}
      },
      "cell_type": "code",
      "source": [
        "# Import numpy and matplotlib\n",
        "import numpy as np\n",
        "import matplotlib.pyplot as plt\n",
        "%matplotlib inline"
      ],
      "execution_count": 0,
      "outputs": []
    },
    {
      "metadata": {
        "id": "R4n723foxEcI",
        "colab_type": "code",
        "colab": {}
      },
      "cell_type": "code",
      "source": [
        "# Create model grid\n",
        "x = np.linspace(0,50,51)"
      ],
      "execution_count": 0,
      "outputs": []
    },
    {
      "metadata": {
        "id": "GWDFOzZ_xEcL",
        "colab_type": "code",
        "colab": {
          "base_uri": "https://localhost:8080/",
          "height": 286
        },
        "outputId": "e8ddd2db-cd48-4acd-dd43-d26a785b7a0d"
      },
      "cell_type": "code",
      "source": [
        "# Define initial elevation along hillslope\n",
        "zi = np.zeros_like(x)\n",
        "for i in np.arange(1,len(zi)):\n",
        "    if i <= (len(zi)/2.):\n",
        "        zi[i] = zi[i-1] + 5\n",
        "    else:\n",
        "        zi[i] = zi[i-1] - 5\n",
        "        \n",
        "#Define initial bedrock height along hillslope\n",
        "# wi = np.zeros_like(x)\n",
        "# for i in np.arange(1,len(wi)):\n",
        "#     if i <= (len(wi)/2.):\n",
        "#         wi[i] = wi[i-1] + 9.5\n",
        "#     else:\n",
        "#         wi[i] = wi[i-1] - 9.5\n",
        "wi = zi - 0.2\n",
        "        \n",
        "# Plot initial elevation of model to make sure it looks good\n",
        "plt.plot(x,zi,'k')\n",
        "plt.plot(x,wi,'r')"
      ],
      "execution_count": 170,
      "outputs": [
        {
          "output_type": "execute_result",
          "data": {
            "text/plain": [
              "[<matplotlib.lines.Line2D at 0x7f47ef69c860>]"
            ]
          },
          "metadata": {
            "tags": []
          },
          "execution_count": 170
        },
        {
          "output_type": "display_data",
          "data": {
            "image/png": "[encoded data removed]",
            "text/plain": [
              "<Figure size 432x288 with 1 Axes>"
            ]
          },
          "metadata": {
            "tags": []
          }
        }
      ]
    },
    {
      "metadata": {
        "id": "WpdoEWyvxEcQ",
        "colab_type": "code",
        "colab": {}
      },
      "cell_type": "code",
      "source": [
        "def evolve(x,zi,wi,k,aw,bw,t,dt,u,bd):\n",
        "    # Calculate dx\n",
        "    dx = x[1]-x[0]\n",
        "    # Create array so store elevation at each timestep\n",
        "    z_out = np.zeros((int((t/dt)+1),len(x)))\n",
        "    # Create array to store bedrockelevation at each timestep\n",
        "    w_out = np.zeros((int((t/dt)+1),len(x)))\n",
        "    # Store initial Elevation as timestep 0 in array\n",
        "    z_out[0] = zi\n",
        "    # Store initial bedrock Elevation as timestep 0 in array\n",
        "    w_out[0] = wi\n",
        "    # Create array of times at different timesteps\n",
        "    ts = np.linspace(dt,t,t/dt)\n",
        "    ts = np.concatenate(([0],ts))\n",
        "    # Set Elevation at boundaries\n",
        "    z_out[0,0] = zi[0]\n",
        "    z_out[0,-1] = zi[0]\n",
        "    # Set Bedrock Elevation at boundaries\n",
        "    w_out[:,0] = wi[0]\n",
        "    w_out[:,-1] = wi[0]\n",
        "    # Print specifics of model\n",
        "    print('Running a Model with k = '+str(k)+', time = '+str(t)+', and uplift ='+str(u))\n",
        "    #Create loop to iterate through timesteps for diffusion\n",
        "    for i in np.arange(1,len(ts)):\n",
        "        # Create loop to iterate through model grid\n",
        "        for l in np.arange(0,len(x)):\n",
        "            th = z_out[i-1][l] - w_out[i-1][l]\n",
        "            w_r = aw*np.exp(-bw*th)\n",
        "            w_out[i][l] = w_out[i-1][l] - w_r*dt + u*dt   \n",
        "        for l in np.arange(1,len(x)-1):\n",
        "            q_l = k*((z_out[i-1][l-1]-z_out[i-1][l])/dx)\n",
        "            q_r = k*((z_out[i-1][l+1]-z_out[i-1][l])/dx)\n",
        "            z_out[i][l] = z_out[i-1][l] + q_r*dt + q_l*dt + u*dt\n",
        "        for l in [0,len(x)-1]:\n",
        "            z_out[i][l] = z_out[i-1][l] + bd*dt + u*dt\n",
        "            w_out[i][l] = w_out[i-1][l] + u*dt\n",
        "    return z_out,w_out"
      ],
      "execution_count": 0,
      "outputs": []
    },
    {
      "metadata": {
        "id": "PuI6fD75xEcS",
        "colab_type": "code",
        "colab": {
          "base_uri": "https://localhost:8080/",
          "height": 85
        },
        "outputId": "a4989cb6-09f3-4910-c000-2b0c2f8cb27d"
      },
      "cell_type": "code",
      "source": [
        "z_out,w_out = evolve(x,zi,wi,0.05,0.5,5,100000,1,0.01,-0.01)"
      ],
      "execution_count": 185,
      "outputs": [
        {
          "output_type": "stream",
          "text": [
            "/usr/local/lib/python3.6/dist-packages/ipykernel_launcher.py:13: DeprecationWarning: object of type <class 'float'> cannot be safely interpreted as an integer.\n",
            "  del sys.path[0]\n"
          ],
          "name": "stderr"
        },
        {
          "output_type": "stream",
          "text": [
            "Running a Model with k = 0.05, time = 100000, and uplift =0.01\n"
          ],
          "name": "stdout"
        },
        {
          "output_type": "stream",
          "text": [
            "/usr/local/lib/python3.6/dist-packages/ipykernel_launcher.py:28: RuntimeWarning: overflow encountered in exp\n"
          ],
          "name": "stderr"
        }
      ]
    },
    {
      "metadata": {
        "id": "ZZTOdESbxEcV",
        "colab_type": "code",
        "colab": {
          "base_uri": "https://localhost:8080/",
          "height": 286
        },
        "outputId": "eb9aa1f8-766a-4fbd-8f93-6e3567f274bd"
      },
      "cell_type": "code",
      "source": [
        "step = 100000\n",
        "plt.plot(x,z_out[step])\n",
        "plt.plot(x,w_out[step],'k')"
      ],
      "execution_count": 186,
      "outputs": [
        {
          "output_type": "execute_result",
          "data": {
            "text/plain": [
              "[<matplotlib.lines.Line2D at 0x7f47ef563518>]"
            ]
          },
          "metadata": {
            "tags": []
          },
          "execution_count": 186
        },
        {
          "output_type": "display_data",
          "data": {
            "image/png": "[encoded data removed]",
            "text/plain": [
              "<Figure size 432x288 with 1 Axes>"
            ]
          },
          "metadata": {
            "tags": []
          }
        }
      ]
    },
    {
      "metadata": {
        "id": "P4mr5FwJxEcb",
        "colab_type": "code",
        "colab": {
          "base_uri": "https://localhost:8080/",
          "height": 269
        },
        "outputId": "8c80b43c-f9ec-4347-bad1-d76248257760"
      },
      "cell_type": "code",
      "source": [
        "import matplotlib.animation as animation\n",
        "\n",
        "from IPython.display import HTML\n",
        "# First set up the figure, the axis, and the plot element we want to animate\n",
        "fig, ax = plt.subplots()\n",
        "\n",
        "ax.set_xlim(( -1, len(x)))\n",
        "ax.set_ylim((0,200))\n",
        "\n",
        "line, = ax.plot(x, z_out[0])"
      ],
      "execution_count": 180,
      "outputs": [
        {
          "output_type": "display_data",
          "data": {
            "image/png": "[encoded data removed]",
            "text/plain": [
              "<Figure size 432x288 with 1 Axes>"
            ]
          },
          "metadata": {
            "tags": []
          }
        }
      ]
    },
    {
      "metadata": {
        "id": "C9x3OApsQMs1",
        "colab_type": "code",
        "colab": {}
      },
      "cell_type": "code",
      "source": [
        "# initialization function: plot the background of each frame\n",
        "def init():\n",
        "    line.set_ydata(z_out[0])\n",
        "    return (line,)"
      ],
      "execution_count": 0,
      "outputs": []
    },
    {
      "metadata": {
        "id": "AV4b_sGIxEcd",
        "colab_type": "code",
        "colab": {}
      },
      "cell_type": "code",
      "source": [
        "# animation function. This is called sequentially\n",
        "def animate(i):\n",
        "    line.set_ydata(z_out[i])\n",
        "    return (line,)"
      ],
      "execution_count": 0,
      "outputs": []
    },
    {
      "metadata": {
        "id": "oWO917qfxEcf",
        "colab_type": "code",
        "colab": {}
      },
      "cell_type": "code",
      "source": [
        "anim = animation.FuncAnimation(fig, animate, init_func=init,\n",
        "                               frames=100000, interval=50, blit=True)"
      ],
      "execution_count": 0,
      "outputs": []
    },
    {
      "metadata": {
        "id": "hcOMwM28QGb2",
        "colab_type": "code",
        "colab": {}
      },
      "cell_type": "code",
      "source": [
        "HTML(anim.to_html5_video())"
      ],
      "execution_count": 0,
      "outputs": []
    },
    {
      "metadata": {
        "id": "GLQhpRI3QQsk",
        "colab_type": "code",
        "colab": {}
      },
      "cell_type": "code",
      "source": [
        ""
      ],
      "execution_count": 0,
      "outputs": []
    }
  ]
}