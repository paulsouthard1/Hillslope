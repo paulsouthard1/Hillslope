{
 "cells": [
  {
   "cell_type": "code",
   "execution_count": 1,
   "metadata": {},
   "outputs": [],
   "source": [
    "# Import numpy and matplotlib\n",
    "import numpy as np\n",
    "import matplotlib.pyplot as plt\n",
    "%matplotlib inline"
   ]
  },
  {
   "cell_type": "code",
   "execution_count": 2,
   "metadata": {},
   "outputs": [],
   "source": [
    "# Create model grid\n",
    "x = np.linspace(0,50,51)"
   ]
  },
  {
   "cell_type": "code",
   "execution_count": 11,
   "metadata": {},
   "outputs": [
    {
     "data": {
      "text/plain": [
       "[<matplotlib.lines.Line2D at 0x7f2ee93eba10>]"
      ]
     },
     "execution_count": 11,
     "metadata": {},
     "output_type": "execute_result"
    },
    {
     "data": {
      "image/png": "[encoded data removed]",
      "text/plain": [
       "<Figure size 432x288 with 1 Axes>"
      ]
     },
     "metadata": {},
     "output_type": "display_data"
    }
   ],
   "source": [
    "# Define initial elevation along hillslope\n",
    "zi = np.zeros_like(x)\n",
    "for i in np.arange(1,len(zi)):\n",
    "    if i <= (len(zi)/2.):\n",
    "        zi[i] = zi[i-1] + 2\n",
    "    else:\n",
    "        zi[i] = zi[i-1] - 2\n",
    "        \n",
    "#Define initial bedrock height along hillslope\n",
    "# wi = np.zeros_like(x)\n",
    "# for i in np.arange(1,len(wi)):\n",
    "#     if i <= (len(wi)/2.):\n",
    "#         wi[i] = wi[i-1] + 9.5\n",
    "#     else:\n",
    "#         wi[i] = wi[i-1] - 9.5\n",
    "wi = zi - 0.2\n",
    "        \n",
    "# Plot initial elevation of model to make sure it looks good\n",
    "plt.plot(x,zi,'k')\n",
    "plt.plot(x,wi,'r')"
   ]
  },
  {
   "cell_type": "code",
   "execution_count": 23,
   "metadata": {},
   "outputs": [],
   "source": [
    "def evolve(x,zi,wi,k,aw,bw,t,dt,u):\n",
    "    # Calculate dx\n",
    "    dx = x[1]-x[0]\n",
    "    # Create array so store elevation at each timestep\n",
    "    z_out = np.zeros(((t/dt)+1,len(x)))\n",
    "    # Store initial Elevation as timestep 0 in array\n",
    "    z_out[0] = zi\n",
    "    # Create array of times at different timesteps\n",
    "    t = np.linspace(dt,t,t/dt)\n",
    "    t = np.concatenate(([0],t))\n",
    "    # Set Elevation at boundaries\n",
    "    z_out[:,0] = zi[0]\n",
    "    z_out[:,-1] = zi[0]\n",
    "    #Create loop to iterate through timesteps for diffusion\n",
    "    for t in np.arange(1,len(t)):\n",
    "        # Create loop to iterate through model grid\n",
    "        for l in np.arange(1,len(x)-1):\n",
    "            q_l = k*((z_out[t-1][l-1]-z_out[t-1][l])/dx)\n",
    "            q_r = k*((z_out[t-1][l+1]-z_out[t-1][l])/dx)\n",
    "            z_out[t][l] = z_out[t-1][l] + q_r*dt + q_l*dt + u*dt\n",
    "    # Create array to store bedrockelevation at each timestep\n",
    "    w_out = np.zeros(((t/dt)+1,len(x)))\n",
    "    # Store initial bedrock Elevation as timestep 0 in array\n",
    "    w_out[0] = wi\n",
    "    # Create array of times at different timesteps\n",
    "    t = np.linspace(dt,t,t/dt)\n",
    "    t = np.concatenate(([0],t))\n",
    "    # Set Bedrock Elevation at boundaries\n",
    "    w_out[:,0] = wi[0]\n",
    "    w_out[:,-1] = wi[0]\n",
    "    # Create loop to iterate through timesteps for weathering\n",
    "    for t in np.arange(1,len(t)):\n",
    "        # Create loop to iterate through model grid\n",
    "        for l in np.arange(1,len(x)-1):\n",
    "            th = z_out[t-1][l] - w_out[t-1][l]\n",
    "            w_r = aw*np.exp(-bw*th)\n",
    "            w_out[t][l] = w_out[t-1][l] - w_r*dt + u*dt\n",
    "    return z_out,w_out"
   ]
  },
  {
   "cell_type": "code",
   "execution_count": null,
   "metadata": {},
   "outputs": [],
   "source": [
    "z_out,w_out = evolve(x,zi,wi,0.05,0.5,5,10000,1,0)"
   ]
  },
  {
   "cell_type": "code",
   "execution_count": null,
   "metadata": {},
   "outputs": [],
   "source": [
    "plt.plot(z_out[5000])\n",
    "plt.plot(w_out[5000])"
   ]
  },
  {
   "cell_type": "code",
   "execution_count": 21,
   "metadata": {},
   "outputs": [
    {
     "name": "stderr",
     "output_type": "stream",
     "text": [
      "/home/paul/anaconda2/lib/python2.7/site-packages/ipykernel_launcher.py:3: DeprecationWarning: object of type <type 'float'> cannot be safely interpreted as an integer.\n",
      "  This is separate from the ipykernel package so we can avoid doing imports until\n"
     ]
    },
    {
     "data": {
      "text/plain": [
       "array([  0.5,   1. ,   1.5,   2. ,   2.5,   3. ,   3.5,   4. ,   4.5,\n",
       "         5. ,   5.5,   6. ,   6.5,   7. ,   7.5,   8. ,   8.5,   9. ,\n",
       "         9.5,  10. ,  10.5,  11. ,  11.5,  12. ,  12.5,  13. ,  13.5,\n",
       "        14. ,  14.5,  15. ,  15.5,  16. ,  16.5,  17. ,  17.5,  18. ,\n",
       "        18.5,  19. ,  19.5,  20. ,  20.5,  21. ,  21.5,  22. ,  22.5,\n",
       "        23. ,  23.5,  24. ,  24.5,  25. ,  25.5,  26. ,  26.5,  27. ,\n",
       "        27.5,  28. ,  28.5,  29. ,  29.5,  30. ,  30.5,  31. ,  31.5,\n",
       "        32. ,  32.5,  33. ,  33.5,  34. ,  34.5,  35. ,  35.5,  36. ,\n",
       "        36.5,  37. ,  37.5,  38. ,  38.5,  39. ,  39.5,  40. ,  40.5,\n",
       "        41. ,  41.5,  42. ,  42.5,  43. ,  43.5,  44. ,  44.5,  45. ,\n",
       "        45.5,  46. ,  46.5,  47. ,  47.5,  48. ,  48.5,  49. ,  49.5,\n",
       "        50. ,  50.5,  51. ,  51.5,  52. ,  52.5,  53. ,  53.5,  54. ,\n",
       "        54.5,  55. ,  55.5,  56. ,  56.5,  57. ,  57.5,  58. ,  58.5,\n",
       "        59. ,  59.5,  60. ,  60.5,  61. ,  61.5,  62. ,  62.5,  63. ,\n",
       "        63.5,  64. ,  64.5,  65. ,  65.5,  66. ,  66.5,  67. ,  67.5,\n",
       "        68. ,  68.5,  69. ,  69.5,  70. ,  70.5,  71. ,  71.5,  72. ,\n",
       "        72.5,  73. ,  73.5,  74. ,  74.5,  75. ,  75.5,  76. ,  76.5,\n",
       "        77. ,  77.5,  78. ,  78.5,  79. ,  79.5,  80. ,  80.5,  81. ,\n",
       "        81.5,  82. ,  82.5,  83. ,  83.5,  84. ,  84.5,  85. ,  85.5,\n",
       "        86. ,  86.5,  87. ,  87.5,  88. ,  88.5,  89. ,  89.5,  90. ,\n",
       "        90.5,  91. ,  91.5,  92. ,  92.5,  93. ,  93.5,  94. ,  94.5,\n",
       "        95. ,  95.5,  96. ,  96.5,  97. ,  97.5,  98. ,  98.5,  99. ,\n",
       "        99.5, 100. ])"
      ]
     },
     "execution_count": 21,
     "metadata": {},
     "output_type": "execute_result"
    }
   ],
   "source": [
    "dt = 0.5\n",
    "t = 100\n",
    "np.linspace(dt,t,t/dt)"
   ]
  },
  {
   "cell_type": "code",
   "execution_count": null,
   "metadata": {},
   "outputs": [],
   "source": []
  },
  {
   "cell_type": "code",
   "execution_count": null,
   "metadata": {},
   "outputs": [],
   "source": []
  }
 ],
 "metadata": {
  "kernelspec": {
   "display_name": "Python 2",
   "language": "python",
   "name": "python2"
  },
  "language_info": {
   "codemirror_mode": {
    "name": "ipython",
    "version": 2
   },
   "file_extension": ".py",
   "mimetype": "text/x-python",
   "name": "python",
   "nbconvert_exporter": "python",
   "pygments_lexer": "ipython2",
   "version": "2.7.15"
  }
 },
 "nbformat": 4,
 "nbformat_minor": 2
}
